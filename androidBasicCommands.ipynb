{
 "cells": [
  {
   "cell_type": "code",
   "execution_count": 62,
   "metadata": {
    "collapsed": false
   },
   "outputs": [],
   "source": [
    "import subprocess\n",
    "IMAGE_DIR = 'droidScrappy'\n",
    "grabCount = 0\n",
    "IMAGE_BUFFER_SIZE = 50\n",
    "def run(cmd):\n",
    "    s = subprocess.check_output(cmd.split())\n",
    "    return s\n",
    "def adbRun(cmd):\n",
    "    return run('adb '+cmd)\n",
    "def grabScreen():\n",
    "    grabCount+=1\n",
    "    if(grabCount>=IMAGE_BUFFER_SIZE):\n",
    "        grabCount = 1\n",
    "    return run('adb shell screencap /sdcard/'+IMAGE_DIR+'/'+grabCount+'.png')\n",
    "\n",
    "def showNotifications():\n",
    "    run('adb shell input swipe 10 10 10 1000')\n",
    "def closeNotifications():\n",
    "    run('adb shell input swipe 10 1000 10 10')\n",
    "def getOrientation():\n",
    "    return run(\"adb shell dumpsys input | grep SurfaceOrientation |  awk '{ print $2 }'\")\n",
    "def getXY():\n",
    "    return run(\"adb shell dumpsys window | \\\n",
    "    sed -n '/mUnrestrictedScreen/ s/^.*) \\([0-9][0-9]*\\)x\\([0-9][0-9]*\\)/\\1 \\2/p'\")\n",
    "def backButton():\n",
    "    run('adb shell input keyevent 4')\n",
    "def homeButton():\n",
    "    run('adb shell input keyevent 3')\n",
    "def enterButton():\n",
    "    run('adb shell input keyevent 66')\n",
    "def powerButton():\n",
    "    run('adb shell input keyevent 26')\n",
    "def menuButton():\n",
    "    run('adb shell input keyevent 4')\n",
    "def swipeLeft():\n",
    "    run('adb shell input swipe 400 400 800 400')\n",
    "def swipeRight():\n",
    "    run('adb shell input swipe 800 400 400 400')\n",
    "def swipeUp():\n",
    "    run('adb shell input swipe 800 400 400 400')\n",
    "def swipeDown():\n",
    "    run('adb shell input swipe 800 400 1200 400')\n",
    "def sendText(txt):\n",
    "    run('adb shell input text '+txt.replace(' ','%s'))\n",
    "def volumeUp():\n",
    "    run('adb shell input keyevent 25')\n",
    "def volumeDown():\n",
    "    run('adb shell input keyevent 25')\n",
    "def unlock():\n",
    "    run('adb shell input keyevent 82')\n",
    "\n",
    "    \n",
    "# print run(\"adb ls sdcard\")"
   ]
  },
  {
   "cell_type": "code",
   "execution_count": 23,
   "metadata": {
    "collapsed": false
   },
   "outputs": [
    {
     "name": "stdout",
     "output_type": "stream",
     "text": [
      "Updating 1511bb1..f0765e7\n",
      "Fast-forward\n",
      " README.md | 23 +++++++++++++++++++++++\n",
      " 1 file changed, 23 insertions(+)\n",
      " create mode 100644 README.md\n",
      "\n"
     ]
    }
   ],
   "source": [
    "# Run your GIT Commands Needed\n",
    "print run('git pull')"
   ]
  },
  {
   "cell_type": "code",
   "execution_count": 42,
   "metadata": {
    "collapsed": false
   },
   "outputs": [],
   "source": [
    "# print adbRun('ls sdcard')\n",
    "backCmd()"
   ]
  },
  {
   "cell_type": "code",
   "execution_count": 36,
   "metadata": {
    "collapsed": false
   },
   "outputs": [
    {
     "name": "stdout",
     "output_type": "stream",
     "text": [
      "    mBaseDisplayInfo=DisplayInfo{\"Built-in Screen\", uniqueId \"local:0\", app 1080 x 1920, real 1080 x 1920, largest app 1080 x 1920, smallest app 1080 x 1920, 61.250004 fps, supportedRefreshRates [61.250004], rotation 0, density 480 (480.0 x 480.0) dpi, layerStack 0, appVsyncOff -8000000, presDeadline 25326530, type BUILT_IN, state OFF, FLAG_SECURE, FLAG_SUPPORTS_PROTECTED_BUFFERS}\r\n",
      "\n"
     ]
    }
   ],
   "source": [
    "print run('adb shell dumpsys display | grep mBaseDisplayInfo')"
   ]
  },
  {
   "cell_type": "code",
   "execution_count": 49,
   "metadata": {
    "collapsed": false
   },
   "outputs": [
    {
     "name": "stdout",
     "output_type": "stream",
     "text": [
      "hello world\n",
      "hello%sworld\n"
     ]
    }
   ],
   "source": [
    "s = 'hello world'\n",
    "print s\n",
    "print s.replace(' ','%s')\n",
    "unlock()\n",
    "swipeUp()"
   ]
  },
  {
   "cell_type": "code",
   "execution_count": 68,
   "metadata": {
    "collapsed": true
   },
   "outputs": [],
   "source": [
    "enterButton()"
   ]
  },
  {
   "cell_type": "code",
   "execution_count": 56,
   "metadata": {
    "collapsed": true
   },
   "outputs": [],
   "source": [
    "sendText(\"Hello machi. How are you ?\")"
   ]
  },
  {
   "cell_type": "code",
   "execution_count": 63,
   "metadata": {
    "collapsed": false
   },
   "outputs": [],
   "source": [
    "run(\"adb shell am start -a android.intent.action.INSERT -t vnd.android.cursor.dir/contact -e name 'Donald Duck' -e phone 555-1234\")\n",
    "enterButton()\n",
    "# backButton()\n",
    "# backButton()\n"
   ]
  }
 ],
 "metadata": {
  "kernelspec": {
   "display_name": "Python 2",
   "language": "python",
   "name": "python2"
  },
  "language_info": {
   "codemirror_mode": {
    "name": "ipython",
    "version": 2
   },
   "file_extension": ".py",
   "mimetype": "text/x-python",
   "name": "python",
   "nbconvert_exporter": "python",
   "pygments_lexer": "ipython2",
   "version": "2.7.10"
  }
 },
 "nbformat": 4,
 "nbformat_minor": 0
}
