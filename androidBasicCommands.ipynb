{
 "cells": [
  {
   "cell_type": "code",
   "execution_count": 19,
   "metadata": {
    "collapsed": false
   },
   "outputs": [
    {
     "name": "stdout",
     "output_type": "stream",
     "text": [
      "000041f9 00001000 56db2472 .\n",
      "000041f9 00001000 56db1e2f ..\n",
      "000081b0 000048c8 56d8248c img_03_Mar_16_06_48_28_imgResized.jpg.jpeg\n",
      "000081b0 0000433f 56db188c img_05_Mar_16_12_34_04_galleryImg.jpeg\n",
      "000081b0 0000433f 56db18ff img_05_Mar_16_12_35_59_galleryImg.jpeg\n",
      "000081b0 0001f916 56db19fe img_05_Mar_16_12_40_14_galleryImg.jpeg\n",
      "000081b0 0000433f 56db1f01 img_05_Mar_16_13_01_37_galleryImg.jpeg\n",
      "000081b0 0001f916 56db207b img_05_Mar_16_13_07_55_galleryImg.jpeg\n",
      "000081b0 0001f916 56db2107 img_05_Mar_16_13_10_15_galleryImg.jpeg\n",
      "000081b0 00014866 56db2459 img_05_Mar_16_13_24_25_galleryImg.jpeg\n",
      "000081b0 00014866 56db245b img_05_Mar_16_13_24_27_galleryImg.jpeg\n",
      "000081b0 00014866 56db2472 img_05_Mar_16_13_24_50_galleryImg.jpeg\n",
      "\n"
     ]
    }
   ],
   "source": [
    "import subprocess\n",
    "\n",
    "def run(cmd):\n",
    "    s = subprocess.check_output(cmd.split())\n",
    "    return s\n",
    "\n",
    "print run(\"adb ls sdcard/MSD\")"
   ]
  },
  {
   "cell_type": "code",
   "execution_count": 20,
   "metadata": {
    "collapsed": false
   },
   "outputs": [
    {
     "data": {
      "text/plain": [
       "''"
      ]
     },
     "execution_count": 20,
     "metadata": {},
     "output_type": "execute_result"
    }
   ],
   "source": [
    "run('open .')"
   ]
  }
 ],
 "metadata": {
  "kernelspec": {
   "display_name": "Python 2",
   "language": "python",
   "name": "python2"
  },
  "language_info": {
   "codemirror_mode": {
    "name": "ipython",
    "version": 2
   },
   "file_extension": ".py",
   "mimetype": "text/x-python",
   "name": "python",
   "nbconvert_exporter": "python",
   "pygments_lexer": "ipython2",
   "version": "2.7.10"
  }
 },
 "nbformat": 4,
 "nbformat_minor": 0
}
