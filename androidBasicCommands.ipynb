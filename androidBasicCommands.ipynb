{
 "cells": [
  {
   "cell_type": "code",
   "execution_count": 2,
   "metadata": {
    "collapsed": false
   },
   "outputs": [],
   "source": [
    "import subprocess\n",
    "import re\n",
    "import time\n",
    "IMAGE_DIR = 'droidScrappy'\n",
    "grabCount = 0\n",
    "IMAGE_BUFFER_SIZE = 50\n",
    "def run(cmd):\n",
    "    s = subprocess.check_output(cmd.split())\n",
    "    return s\n",
    "def adbRun(cmd):\n",
    "    return run('adb '+cmd)\n",
    "def grabScreen():\n",
    "    grabCount+=1\n",
    "    if(grabCount>=IMAGE_BUFFER_SIZE):\n",
    "        grabCount = 1\n",
    "    return run('adb shell screencap /sdcard/'+IMAGE_DIR+'/'+grabCount+'.png')\n",
    "\n",
    "def showNotifications():\n",
    "    run('adb shell input swipe 10 10 10 1000')\n",
    "def closeNotifications():\n",
    "    run('adb shell input swipe 10 1000 10 10')\n",
    "def getOrientation():\n",
    "    return run(\"adb shell dumpsys input | grep SurfaceOrientation |  awk '{ print $2 }'\")\n",
    "def getXY():\n",
    "    return run(\"adb shell dumpsys window | grep mUnrestrictedScreen\")\n",
    "def backButton():\n",
    "    run('adb shell input keyevent 4')\n",
    "def homeButton():\n",
    "    run('adb shell input keyevent 3')\n",
    "def enterButton():\n",
    "    run('adb shell input keyevent 66')\n",
    "def powerButton():\n",
    "    run('adb shell input keyevent 26')\n",
    "def menuButton():\n",
    "    run('adb shell input keyevent 4')\n",
    "def swipeLeft():\n",
    "    run('adb shell input swipe 400 400 800 400')\n",
    "def swipeRight():\n",
    "    run('adb shell input swipe 800 400 400 400')\n",
    "def swipeUp():\n",
    "    run('adb shell input swipe 800 400 400 400')\n",
    "def swipeDown():\n",
    "    run('adb shell input swipe 800 400 1200 400')\n",
    "def swipe(x,y,x2,y2):\n",
    "    x,y,x2,y2 = str(x),str(y),str(x2),str(y2)\n",
    "    run('adb shell input swipe '+x+' '+y+' '+x2+' '+y2)\n",
    "def sendText(txt):\n",
    "    run('adb shell input text '+txt.replace(' ','%s'))\n",
    "def volumeUp():\n",
    "    run('adb shell input keyevent 25')\n",
    "def volumeDown():\n",
    "    run('adb shell input keyevent 25')\n",
    "def inputTap(x,y):\n",
    "    x,y = str(x),str(y)\n",
    "    print x,y\n",
    "    run('adb shell input tap '+x+' '+y)\n",
    "def unlock():\n",
    "    run('adb shell input keyevent 82')"
   ]
  },
  {
   "cell_type": "code",
   "execution_count": 72,
   "metadata": {
    "collapsed": false
   },
   "outputs": [
    {
     "name": "stdout",
     "output_type": "stream",
     "text": [
      "On branch master\n",
      "Your branch is up-to-date with 'origin/master'.\n",
      "Changes to be committed:\n",
      "  (use \"git reset HEAD <file>...\" to unstage)\n",
      "\n",
      "\tmodified:   .DS_Store\n",
      "\tmodified:   .ipynb_checkpoints/androidBasicCommands-checkpoint.ipynb\n",
      "\tnew file:   Notes for Android Scrapper App\n",
      "\tmodified:   androidBasicCommands.ipynb\n",
      "\n",
      "\n"
     ]
    }
   ],
   "source": [
    "# Run your GIT Commands Needed\n",
    "print run('git status')"
   ]
  },
  {
   "cell_type": "code",
   "execution_count": 42,
   "metadata": {
    "collapsed": false
   },
   "outputs": [],
   "source": [
    "# print adbRun('ls sdcard')\n",
    "backCmd()"
   ]
  },
  {
   "cell_type": "code",
   "execution_count": 36,
   "metadata": {
    "collapsed": false
   },
   "outputs": [
    {
     "name": "stdout",
     "output_type": "stream",
     "text": [
      "    mBaseDisplayInfo=DisplayInfo{\"Built-in Screen\", uniqueId \"local:0\", app 1080 x 1920, real 1080 x 1920, largest app 1080 x 1920, smallest app 1080 x 1920, 61.250004 fps, supportedRefreshRates [61.250004], rotation 0, density 480 (480.0 x 480.0) dpi, layerStack 0, appVsyncOff -8000000, presDeadline 25326530, type BUILT_IN, state OFF, FLAG_SECURE, FLAG_SUPPORTS_PROTECTED_BUFFERS}\r\n",
      "\n"
     ]
    }
   ],
   "source": [
    "print run('adb shell dumpsys display | grep mBaseDisplayInfo')"
   ]
  },
  {
   "cell_type": "code",
   "execution_count": 3,
   "metadata": {
    "collapsed": false
   },
   "outputs": [
    {
     "name": "stdout",
     "output_type": "stream",
     "text": [
      "hello world\n",
      "hello%sworld\n"
     ]
    }
   ],
   "source": [
    "s = 'hello world'\n",
    "print s\n",
    "print s.replace(' ','%s')\n",
    "unlock()\n",
    "swipeUp()"
   ]
  },
  {
   "cell_type": "code",
   "execution_count": 68,
   "metadata": {
    "collapsed": true
   },
   "outputs": [],
   "source": [
    "enterButton()"
   ]
  },
  {
   "cell_type": "code",
   "execution_count": 56,
   "metadata": {
    "collapsed": true
   },
   "outputs": [],
   "source": [
    "sendText(\"Hello friend. This is a bot typing!!\")"
   ]
  },
  {
   "cell_type": "code",
   "execution_count": 63,
   "metadata": {
    "collapsed": false
   },
   "outputs": [],
   "source": [
    "run(\"adb shell am start -a android.intent.action.INSERT -t vnd.android.cursor.dir/contact -e name 'Donald Duck' -e phone 92395423525\")\n",
    "enterButton()\n",
    "# backButton()\n",
    "# backButton()\n"
   ]
  },
  {
   "cell_type": "code",
   "execution_count": 4,
   "metadata": {
    "collapsed": false
   },
   "outputs": [
    {
     "name": "stdout",
     "output_type": "stream",
     "text": [
      "width="
     ]
    },
    {
     "ename": "NameError",
     "evalue": "name 'w' is not defined",
     "output_type": "error",
     "traceback": [
      "\u001b[0;31m---------------------------------------------------------------------------\u001b[0m",
      "\u001b[0;31mNameError\u001b[0m                                 Traceback (most recent call last)",
      "\u001b[0;32m<ipython-input-4-292379e28778>\u001b[0m in \u001b[0;36m<module>\u001b[0;34m()\u001b[0m\n\u001b[1;32m      3\u001b[0m \u001b[0;31m# Get the width & Height of the Screen\u001b[0m\u001b[0;34m\u001b[0m\u001b[0;34m\u001b[0m\u001b[0m\n\u001b[1;32m      4\u001b[0m \u001b[0ma\u001b[0m \u001b[0;34m=\u001b[0m \u001b[0mgetXY\u001b[0m\u001b[0;34m(\u001b[0m\u001b[0;34m)\u001b[0m\u001b[0;34m\u001b[0m\u001b[0m\n\u001b[0;32m----> 5\u001b[0;31m \u001b[0;32mprint\u001b[0m \u001b[0;34m'width='\u001b[0m\u001b[0;34m,\u001b[0m\u001b[0mw\u001b[0m\u001b[0;34m\u001b[0m\u001b[0m\n\u001b[0m\u001b[1;32m      6\u001b[0m \u001b[0;32mprint\u001b[0m \u001b[0;34m'height='\u001b[0m\u001b[0;34m,\u001b[0m\u001b[0mh\u001b[0m\u001b[0;34m\u001b[0m\u001b[0m\n\u001b[1;32m      7\u001b[0m \u001b[0mwidth\u001b[0m \u001b[0;34m=\u001b[0m \u001b[0mint\u001b[0m\u001b[0;34m(\u001b[0m\u001b[0ma\u001b[0m\u001b[0;34m.\u001b[0m\u001b[0msplit\u001b[0m\u001b[0;34m(\u001b[0m\u001b[0;34m'x'\u001b[0m\u001b[0;34m)\u001b[0m\u001b[0;34m[\u001b[0m\u001b[0;36m0\u001b[0m\u001b[0;34m]\u001b[0m\u001b[0;34m.\u001b[0m\u001b[0msplit\u001b[0m\u001b[0;34m(\u001b[0m\u001b[0;34m' '\u001b[0m\u001b[0;34m)\u001b[0m\u001b[0;34m[\u001b[0m\u001b[0;34m-\u001b[0m\u001b[0;36m1\u001b[0m\u001b[0;34m]\u001b[0m\u001b[0;34m)\u001b[0m\u001b[0;34m\u001b[0m\u001b[0m\n",
      "\u001b[0;31mNameError\u001b[0m: name 'w' is not defined"
     ]
    }
   ],
   "source": [
    "# Whatsapp Bot!\n",
    "unlock()\n",
    "# Get the width & Height of the Screen\n",
    "a = getXY()\n",
    "print 'width=',w\n",
    "print 'height=',h\n",
    "width = int(a.split('x')[0].split(' ')[-1])\n",
    "height = int(a.split('x')[1])\n",
    "w,h = width,height\n",
    "swipe(w/2,(h*4)/5,w/2,h/3)\n",
    "time.sleep(1) # delays for 1 second\n",
    "# run(\"adb shell am force-stop com.whatsapp\")\n",
    "run(\"adb shell am start -n com.whatsapp/.Main\")"
   ]
  },
  {
   "cell_type": "code",
   "execution_count": 6,
   "metadata": {
    "collapsed": false
   },
   "outputs": [],
   "source": [
    "w,h = 1080,1920"
   ]
  },
  {
   "cell_type": "code",
   "execution_count": 19,
   "metadata": {
    "collapsed": false
   },
   "outputs": [
    {
     "name": "stdout",
     "output_type": "stream",
     "text": [
      "729 151\n",
      "643 379\n",
      "950 1813\n"
     ]
    }
   ],
   "source": [
    "unlock()\n",
    "run(\"adb shell am force-stop com.whatsapp\")\n",
    "time.sleep(0.5)\n",
    "run(\"adb shell am start -n com.whatsapp/.Main\")\n",
    "# Click Select New Contact Button\n",
    "# inputTap(w*.84,h*.09)\n",
    "# time.sleep(0.5)\n",
    "# inputTap(w*.84,h*.09)  \n",
    "time.sleep(1.5)\n",
    "# New message 877,180  Search - 729,151\n",
    "inputTap(729,151)\n",
    "time.sleep(0.5)\n",
    "# Search 867,170\n",
    "# inputTap(877,170)\n",
    "sendText('Mad Street Den')\n",
    "# First item 611,599   Search first item home 643,379\n",
    "time.sleep(0.5)\n",
    "inputTap(643,379)\n",
    "time.sleep(0.5)\n",
    "sendText('Testing Whatsapp Bot!! . This message is sent from the python code that controls the phone. It works!! Yaay')\n",
    "# Tap Enter Button 950,1813\n",
    "# enterButton()\n",
    "time.sleep(0.5)\n",
    "inputTap(950,1813)"
   ]
  },
  {
   "cell_type": "code",
   "execution_count": 52,
   "metadata": {
    "collapsed": false
   },
   "outputs": [
    {
     "data": {
      "text/plain": [
       "'/system/bin/sh: getEvents: not found\\r\\n'"
      ]
     },
     "execution_count": 52,
     "metadata": {},
     "output_type": "execute_result"
    }
   ],
   "source": [
    "run('adb shell getEvents')"
   ]
  }
 ],
 "metadata": {
  "kernelspec": {
   "display_name": "Python 2",
   "language": "python",
   "name": "python2"
  },
  "language_info": {
   "codemirror_mode": {
    "name": "ipython",
    "version": 2
   },
   "file_extension": ".py",
   "mimetype": "text/x-python",
   "name": "python",
   "nbconvert_exporter": "python",
   "pygments_lexer": "ipython2",
   "version": "2.7.10"
  }
 },
 "nbformat": 4,
 "nbformat_minor": 0
}
