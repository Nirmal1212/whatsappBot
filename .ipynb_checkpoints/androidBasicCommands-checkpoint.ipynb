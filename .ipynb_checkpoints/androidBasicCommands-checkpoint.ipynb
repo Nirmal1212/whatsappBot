{
 "cells": [
  {
   "cell_type": "code",
   "execution_count": 18,
   "metadata": {
    "collapsed": false
   },
   "outputs": [
    {
     "name": "stdout",
     "output_type": "stream",
     "text": [
      "000041f8 00001000 56e65586 .\n",
      "000041f9 00001000 56f17bf3 ..\n",
      "000081b0 00027306 56e29547 img_11_Mar_16_15_22_07_fullIm.jpg.jpeg\n",
      "000081b0 0000c8cf 56e29547 img_11_Mar_16_15_22_07_roiIm2.jpg.jpeg\n",
      "000081b0 0000ddfd 56e295c1 img_11_Mar_16_15_24_09_fullIm.jpg.jpeg\n",
      "000081b0 00004412 56e295c1 img_11_Mar_16_15_24_09_roiIm.jpg.jpeg\n",
      "000081b0 0001cb01 56e64916 img_14_Mar_16_10_46_06_fullIm.jpg.jpeg\n",
      "000081b0 0000ddfd 56e649fe img_14_Mar_16_10_49_58_fullIm.jpg.jpeg\n",
      "000081b0 00003542 56e649fe img_14_Mar_16_10_49_58_roiIm.jpg.jpeg\n",
      "000081b0 00051666 56e65587 img_14_Mar_16_11_39_10_fullIm.jpg.jpeg\n",
      "\n"
     ]
    }
   ],
   "source": [
    "import subprocess\n",
    "\n",
    "def run(cmd):\n",
    "    s = subprocess.check_output(cmd.split())\n",
    "    return s\n",
    "\n",
    "print run(\"adb ls sdcard/MSD\")"
   ]
  },
  {
   "cell_type": "code",
   "execution_count": 9,
   "metadata": {
    "collapsed": false
   },
   "outputs": [],
   "source": []
  }
 ],
 "metadata": {
  "kernelspec": {
   "display_name": "Python 2",
   "language": "python",
   "name": "python2"
  },
  "language_info": {
   "codemirror_mode": {
    "name": "ipython",
    "version": 2
   },
   "file_extension": ".py",
   "mimetype": "text/x-python",
   "name": "python",
   "nbconvert_exporter": "python",
   "pygments_lexer": "ipython2",
   "version": "2.7.10"
  }
 },
 "nbformat": 4,
 "nbformat_minor": 0
}
